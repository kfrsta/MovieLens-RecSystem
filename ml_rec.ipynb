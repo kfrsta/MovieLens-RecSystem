{
 "cells": [
  {
   "attachments": {},
   "cell_type": "markdown",
   "metadata": {
    "slideshow": {
     "slide_type": "notes"
    }
   },
   "source": [
    "Импорт необходимых библиотек"
   ]
  },
  {
   "cell_type": "code",
   "execution_count": 3,
   "metadata": {},
   "outputs": [],
   "source": [
    "import torch\n",
    "import torch.nn as nn\n",
    "import torch.optim as optim\n",
    "import pandas as pd\n",
    "from torch.utils.data import Dataset, DataLoader\n",
    "import numpy as np\n",
    "from sklearn.model_selection import train_test_split\n",
    "import matplotlib.pyplot as plt"
   ]
  },
  {
   "cell_type": "code",
   "execution_count": 4,
   "metadata": {},
   "outputs": [
    {
     "data": {
      "text/plain": [
       "device(type='cpu')"
      ]
     },
     "execution_count": 4,
     "metadata": {},
     "output_type": "execute_result"
    }
   ],
   "source": [
    "# выбираем на чем будем обучаться\n",
    "device = torch.device(\"cuda\" if torch.cuda.is_available() else \"cpu\")\n",
    "device"
   ]
  },
  {
   "attachments": {},
   "cell_type": "markdown",
   "metadata": {},
   "source": [
    "Чтение данных и предобработка. Модель будет включать в себя информацию из этих двух таблиц, но возможно улучшение при достаточных вычислительных мощностях. Например, можно создать дополнительные эмбединги жанров из таблицы Movies, тэгов, которые пользователи поставили фильмам и релевантности тэгов из genome_scores"
   ]
  },
  {
   "cell_type": "code",
   "execution_count": 5,
   "metadata": {},
   "outputs": [],
   "source": [
    "movies = pd.read_csv('./ml-latest/movies.csv')\n",
    "ratings = pd.read_csv('./ml-latest/ratings.csv')"
   ]
  },
  {
   "attachments": {},
   "cell_type": "markdown",
   "metadata": {},
   "source": [
    "Преобразуем id фильмов в формат, удобный для работы с эмбедингами, чтобы при вычислении индекс не выходил для границы размера эмбединга"
   ]
  },
  {
   "cell_type": "code",
   "execution_count": 6,
   "metadata": {},
   "outputs": [],
   "source": [
    "movie_to_idx = {}  # словарь для хранения нового индекса вместе со старым\n",
    "for idx, movie_id in enumerate(movies['movieId']):\n",
    "    movie_to_idx[movie_id] = idx\n",
    "# задаем новую колонку в таблице ratings с новыми id фильмов\n",
    "ratings['movieIdx'] = ratings['movieId'].apply(lambda x: movie_to_idx[x])"
   ]
  },
  {
   "cell_type": "code",
   "execution_count": 7,
   "metadata": {},
   "outputs": [],
   "source": [
    "train_data, val_data = train_test_split(\n",
    "    ratings, test_size=0.2, random_state=42)  # разбиваем данные на трейн/тест в соотношении 80:20"
   ]
  },
  {
   "attachments": {},
   "cell_type": "markdown",
   "metadata": {},
   "source": [
    "Определение класса датасета для наших данных. Так как объем данных на обучение большой, целесообразно будет обучаться через батчи. Для этого нужно определить датасет и закинуть его в даталоадер"
   ]
  },
  {
   "cell_type": "code",
   "execution_count": 8,
   "metadata": {},
   "outputs": [],
   "source": [
    "class RatingsDataset(Dataset):\n",
    "    def __init__(self, ratings):  # инициализируем таблицей ratings\n",
    "        # переводим все данные в тензоры\n",
    "        self.user_ids = torch.LongTensor(ratings['userId'].values)\n",
    "        self.movie_ids = torch.LongTensor(ratings['movieIdx'].values)\n",
    "        self.ratings = torch.FloatTensor(ratings['rating'].values)\n",
    "\n",
    "    def __len__(self):\n",
    "        return len(self.user_ids)\n",
    "\n",
    "    def __getitem__(self, idx):\n",
    "        return self.user_ids[idx], self.movie_ids[idx], self.ratings[idx]"
   ]
  },
  {
   "attachments": {},
   "cell_type": "markdown",
   "metadata": {},
   "source": [
    "Для решения поставленной задачи был выбран подход матричной факторизации. Условно архитектура нейронной сети делится на 2 части. Первая часть отвечает за создание эмбедингов пользователя и фильма, а вторая за их объединение и вычисление рейтинга путём 3 линейных слоёв. Также для контроля над переобучением было добавлено 3 слоя dropout, которые отсеивают некоторые нейроны с вероятностью 0.2. Функция активации стандартная для линейных слоёв - ReLu."
   ]
  },
  {
   "cell_type": "code",
   "execution_count": 9,
   "metadata": {},
   "outputs": [],
   "source": [
    "class Recommender(nn.Module):\n",
    "    # передаем кол-во пользователей, кол-во фильмов, размерность эмбединга\n",
    "    def __init__(self, num_users, num_movies, emb_size=50):\n",
    "        super().__init__()\n",
    "        # определяем слой эмбединга пользователей используя число уникальных пользователй и заданую размерность\n",
    "        self.user_emb = nn.Embedding(num_users, emb_size)\n",
    "        # делаем тоже самое что и с эмбедингом пользователя, но уже с числом уникальных фильмов\n",
    "        self.movie_emb = nn.Embedding(num_movies, emb_size)\n",
    "        # линейный слой 1. Так как мы объединили два эмбединга, то вход у этого слоя равен двойной размерности эмбедингов\n",
    "        self.fc1 = nn.Linear(2 * emb_size, 100)\n",
    "        # линейный слой 2. Постепенно снижаем размерность\n",
    "        self.fc2 = nn.Linear(100, 50)\n",
    "        # линейный слой 3. Получаем значения рейтинга для i-ого пользователя для j-ого фильма\n",
    "        self.fc3 = nn.Linear(50, 1)\n",
    "        # слой dropout для контроля над переобучением\n",
    "        self.dropout = nn.Dropout(p=0.2)\n",
    "\n",
    "    # forward основная функция которая отображает последовательность действий нашей сети\n",
    "    def forward(self, user_ids, movie_ids,):\n",
    "        # сначала получаем эмбединги пользователей\n",
    "        user_emb = self.user_emb(user_ids)\n",
    "        movie_emb = self.movie_emb(movie_ids)  # затем фильмов\n",
    "        # объединяем их используя конкатенацию\n",
    "        x = torch.cat([user_emb, movie_emb], dim=1)\n",
    "        x = self.dropout(x)  # пропускаем через dropout\n",
    "        # пропускаем через линейный слой и функцию активации после него\n",
    "        x = nn.functional.relu(self.fc1(x))\n",
    "        x = self.dropout(x)  # пропускаем через dropout\n",
    "        # пропускаем через следующий линейный слой и функцию активации после него\n",
    "        x = nn.functional.relu(self.fc2(x))\n",
    "        x = self.dropout(x)  # пропускаем через dropout\n",
    "        x = self.fc3(x)  # финальный слой\n",
    "        return x.squeeze()  # выполняем операцию squeeze чтобы перейти к одномерной размерности, в которой находятся true значения рейтинга"
   ]
  },
  {
   "attachments": {},
   "cell_type": "markdown",
   "metadata": {},
   "source": [
    "Инициализация сети, функции потерь и оптимизатора. Инициализируем количеством уникальных пользователей и фильмов. Добавляем 1, чтобы в процесс обучения не выйти за границу эмюединга\n",
    "Так как вторая часть архитектуры сети выполняет задачу регрессии, то функция потерь будет MSE (Mean Squared Error), вычисляющая квадратичное отклонение предсказанного рейтинга от реального значения"
   ]
  },
  {
   "attachments": {},
   "cell_type": "markdown",
   "metadata": {},
   "source": [
    "Оптимизатор Adam был выбран, так как он хорошо показывает себя при работе с большими объемами данных. Также один из основных плюсов данного оптимизатора это адаптивная скорость обучения для каждого параметра, что при апгрейде модели и добавления эмбедингов других фичей будет плюсом."
   ]
  },
  {
   "cell_type": "code",
   "execution_count": 10,
   "metadata": {},
   "outputs": [],
   "source": [
    "model = Recommender(num_users=ratings['userId'].nunique()+1,\n",
    "                    num_movies=movies['movieId'].nunique()+1,\n",
    "                    emb_size=50).to(device)\n",
    "criterion = nn.MSELoss()\n",
    "# передаем в оптимизатор параметры модели\n",
    "optimizer = optim.Adam(model.parameters(), lr=0.001)"
   ]
  },
  {
   "attachments": {},
   "cell_type": "markdown",
   "metadata": {},
   "source": [
    "Определяем классический цикл обучения модели состящий из прохода по батчам в даталоадере, вычисления таргета,\n",
    "вычисления лосс функции между таргетом и реальным значением, выполнением алгоритма обратного прохода по лосс функции и корректировкой оптимизатором параметров модели\n"
   ]
  },
  {
   "cell_type": "code",
   "execution_count": 11,
   "metadata": {},
   "outputs": [],
   "source": [
    "def train(model, dataloader, criterion, optimizer):\n",
    "    model.train()  # перевод в режим обучения\n",
    "    # переменная для хранения лосс значения батча\n",
    "    running_loss = 0.0\n",
    "    for user_ids, movie_ids, ratings in dataloader:\n",
    "        optimizer.zero_grad()  # обнуляем градиенты\n",
    "        # отправляем тензоры данных на платформу, на которой обучаемся CPU или CUDA, получаем предикт\n",
    "        preds = model(user_ids.to(device), movie_ids.to(device))\n",
    "        # вычисляем значение лосс функции\n",
    "        loss = criterion(preds, ratings)\n",
    "        loss.backward()  # выполняем обратный проход\n",
    "        optimizer.step()  # корректируем параметры модели\n",
    "        # добавляем очередное значение лосс функции\n",
    "        running_loss += loss.item()\n",
    "    # вычисляем среднее значение лосс функции для этого вызова фукнции\n",
    "    return running_loss / len(dataloader)"
   ]
  },
  {
   "cell_type": "code",
   "execution_count": 12,
   "metadata": {},
   "outputs": [],
   "source": [
    "def evaluate(model, dataloader, criterion):\n",
    "    model.eval()  # перевод в режим тестирования\n",
    "    running_loss = 0.0  # тоже самое, что и для обучения\n",
    "    with torch.no_grad():  # блокируем градиенты и смотрим как модель ведет себя на новых данных\n",
    "        for user_ids, movie_ids, ratings in dataloader:  # проход по элементам батча\n",
    "            # вычисляем очередное значение предикта\n",
    "            preds = model(user_ids.to(device), movie_ids.to(device))\n",
    "            # вычисляем значение лосс функции\n",
    "            loss = criterion(preds, ratings)\n",
    "            running_loss += loss.item()\n",
    "    # возвращаем среднее значение лосс функции для этого вызова\n",
    "    return running_loss / len(dataloader)"
   ]
  },
  {
   "attachments": {},
   "cell_type": "markdown",
   "metadata": {},
   "source": [
    "После определения функций для обучения и валидации запускается цикл на заданное количество эпох, в каждой эпохе вызываются функции обучения и валидации. На каждой итерации средние значения для конкретной эпохи записываются в список"
   ]
  },
  {
   "cell_type": "code",
   "execution_count": null,
   "metadata": {},
   "outputs": [],
   "source": [
    "# датасет для обучения\n",
    "train_dataset = RatingsDataset(train_data)\n",
    "# даталоадер для обучения\n",
    "train_loader = DataLoader(train_dataset, batch_size=256, shuffle=True)\n",
    "# датасет для валидации\n",
    "val_dataset = RatingsDataset(val_data)\n",
    "# даталоадер для валидации\n",
    "val_loader = DataLoader(val_dataset, batch_size=256, shuffle=False)\n",
    "# хранение лосс значений для обучения и валидации\n",
    "train_loss_hist = []\n",
    "val_loss_hist = []\n",
    "num_epochs = 20\n",
    "for epoch in range(num_epochs):\n",
    "    train_loss = train(model, train_loader, criterion, optimizer)\n",
    "    train_loss_hist.append(train_loss)\n",
    "    val_loss = evaluate(model, val_loader, criterion)\n",
    "    val_loss_hist.append(val_loss)\n",
    "    print(\n",
    "        f'Epoch {epoch+1}, Train Loss: {train_loss:.4f}, Val Loss: {val_loss:.4f}')"
   ]
  },
  {
   "cell_type": "code",
   "execution_count": 13,
   "metadata": {},
   "outputs": [],
   "source": [
    "from sklearn.metrics import r2_score\n",
    "\n",
    "\n",
    "def evaluate_metrics(model, dataloader):\n",
    "    r2_hist = []\n",
    "    model.eval()  # перевод в режим тестирования\n",
    "    with torch.no_grad():  # блокируем градиенты и смотрим как модель ведет себя на новых данных\n",
    "        for user_ids, movie_ids, ratings in dataloader:  # проход по элементам батча\n",
    "            # вычисляем очередное значение предикта\n",
    "            preds = model(user_ids.to(device), movie_ids.to(device))\n",
    "            # вычисляем значение r^2\n",
    "            loss = r2_score(ratings, preds)\n",
    "            r2_hist.append(loss.item())\n",
    "    return r2_hist  # возвращаем среднее значение r^2"
   ]
  },
  {
   "attachments": {},
   "cell_type": "markdown",
   "metadata": {},
   "source": [
    "Сохраняем результаты обучения"
   ]
  },
  {
   "cell_type": "code",
   "execution_count": null,
   "metadata": {},
   "outputs": [],
   "source": [
    "np.save(\"train_loss.npy\", train_loss_hist)\n",
    "np.save(\"test_loss.npy\", val_loss_hist)"
   ]
  },
  {
   "attachments": {},
   "cell_type": "markdown",
   "metadata": {},
   "source": [
    "Сохраняем модель"
   ]
  },
  {
   "cell_type": "code",
   "execution_count": null,
   "metadata": {},
   "outputs": [],
   "source": [
    "torch.save(model, \"./model.pt\")"
   ]
  },
  {
   "attachments": {},
   "cell_type": "markdown",
   "metadata": {},
   "source": [
    "Загружаем модель"
   ]
  },
  {
   "cell_type": "code",
   "execution_count": 14,
   "metadata": {},
   "outputs": [],
   "source": [
    "model = torch.load(\"./model.pt\", map_location=torch.device('cpu'))"
   ]
  },
  {
   "attachments": {},
   "cell_type": "markdown",
   "metadata": {},
   "source": [
    "Вычисляем R^2"
   ]
  },
  {
   "cell_type": "code",
   "execution_count": 94,
   "metadata": {},
   "outputs": [],
   "source": [
    "r2 = evaluate_metrics(model, val_loader)\n",
    "np.save(\"r2_score.npy\", r2)"
   ]
  },
  {
   "attachments": {},
   "cell_type": "markdown",
   "metadata": {},
   "source": [
    "Изображем распредление значений R^2"
   ]
  },
  {
   "cell_type": "code",
   "execution_count": 93,
   "metadata": {},
   "outputs": [
    {
     "data": {
      "text/plain": [
       "[<matplotlib.lines.Line2D at 0x24ed708a200>]"
      ]
     },
     "execution_count": 93,
     "metadata": {},
     "output_type": "execute_result"
    },
    {
     "data": {
      "image/png": "[encoded data removed]",
      "text/plain": [
       "<Figure size 640x480 with 1 Axes>"
      ]
     },
     "metadata": {},
     "output_type": "display_data"
    }
   ],
   "source": [
    "plt.plot(r2)"
   ]
  },
  {
   "attachments": {},
   "cell_type": "markdown",
   "metadata": {},
   "source": [
    "Значение R^2 равное 0,39 означает что построенная модель и выбранные признаки объясняют 40% дисперсии данных. 60% приходится на другие факторы. Например жанры фильмов, тэги пользователей или год выпуска фильма и так далее."
   ]
  },
  {
   "cell_type": "code",
   "execution_count": 96,
   "metadata": {},
   "outputs": [
    {
     "data": {
      "text/plain": [
       "0.3949117717131548"
      ]
     },
     "execution_count": 96,
     "metadata": {},
     "output_type": "execute_result"
    }
   ],
   "source": [
    "np.mean(r2)"
   ]
  },
  {
   "cell_type": "code",
   "execution_count": 75,
   "metadata": {},
   "outputs": [],
   "source": [
    "train_loss = np.load(\"./train_loss.npy\")\n",
    "val_loss = np.load(\"./test_loss.npy\")"
   ]
  },
  {
   "attachments": {},
   "cell_type": "markdown",
   "metadata": {},
   "source": [
    "Изображение графиков значений лосс функции для тестирования и валидации\n",
    "Как видно из графиков модель не имеет сильного переобучения. Граница переобучения находится примерно на 18,19 эпохе.\n",
    "Тем не менее график лосс функции для валидации имеет удовлетворительное снижение значения лосс функции"
   ]
  },
  {
   "cell_type": "code",
   "execution_count": 92,
   "metadata": {},
   "outputs": [
    {
     "data": {
      "text/plain": [
       "<matplotlib.legend.Legend at 0x24f0c476650>"
      ]
     },
     "execution_count": 92,
     "metadata": {},
     "output_type": "execute_result"
    },
    {
     "data": {
      "image/png": "[encoded data removed]",
      "text/plain": [
       "<Figure size 1500x700 with 1 Axes>"
      ]
     },
     "metadata": {},
     "output_type": "display_data"
    }
   ],
   "source": [
    "plt.figure(figsize=(15, 7))\n",
    "plt.subplot(1, 2, 1)\n",
    "plt.plot(range(len(train_loss)), train_loss, label=\"train_loss\")\n",
    "plt.plot(range(len(val_loss)), val_loss, label=\"test_loss\")\n",
    "plt.title(\"MSE Loss\")\n",
    "plt.xlabel(\"Epochs\")\n",
    "plt.legend()"
   ]
  },
  {
   "attachments": {},
   "cell_type": "markdown",
   "metadata": {},
   "source": [
    "N рекомендуемых фильмов выбираются путем сортировки прогнозируемых рейтингов в порядке убывания и выбора n лучших. Это делается путем первого применения маски к прогнозируемым рейтингам с использованием логической индексации, затем с помощью метода argsort() для получения индексов, которые отсортировали бы массив в порядке возрастания, и, наконец, отрицания результата и получения первых n индексов с помощью [:n]. Результирующие индексы соответствуют n лучшим фильмам, которые пользователь еще не оценил."
   ]
  },
  {
   "cell_type": "code",
   "execution_count": 15,
   "metadata": {},
   "outputs": [],
   "source": [
    "def get_top_n_recommendations(user_id, model, movies_df, ratings_df, n):\n",
    "    all_movies = torch.LongTensor(movies_df['movieId'].values) #получаем тензор всех фильмов\n",
    "\n",
    "    user_ratings = ratings_df[ratings_df['userId'] == user_id] #получаем срез датасета, где фигурирует заданный пользователь\n",
    "    user_movies = torch.LongTensor(user_ratings['movieId'].values) #получаем Id фильмов, которые он оценил\n",
    "\n",
    "    mask = torch.ones_like(all_movies, dtype=torch.bool) #создаем маску что поменить фильмы, которые он уже видел\n",
    "    mask[user_movies] = False #помечаем эти фильмы флагом False\n",
    "\n",
    "    user_ids = torch.LongTensor([user_id] * len(all_movies)) # тензор user_ids создается с размером тензора всех фильмов, чтобы соблюсти размеры эмбедингов\n",
    "    predicted_ratings = model(user_ids, all_movies).detach().numpy() # вычисляются рейтиги и значения убираются из вычислительного графа и переводятся в массив numpy\n",
    "\n",
    "    top_n_indices = (-predicted_ratings[mask]).argsort()[:n] #сортируем рейтинги учитывая значения маски и получаем значения индексов для рекомендации\n",
    "    top_n_movies = all_movies[mask][top_n_indices].numpy() #выводим информацию об этих фильмах, используя полученные индексы\n",
    "\n",
    "    return movies_df[movies_df['movieId'].isin(top_n_movies)]"
   ]
  },
  {
   "attachments": {},
   "cell_type": "markdown",
   "metadata": {},
   "source": [
    "Результаты выполнения функции и получение"
   ]
  },
  {
   "cell_type": "code",
   "execution_count": 26,
   "metadata": {},
   "outputs": [
    {
     "name": "stdout",
     "output_type": "stream",
     "text": [
      "       movieId                                   title                  genres\n",
      "312        315                  Specialist, The (1994)   Action|Drama|Thriller\n",
      "828        843                       Lotto Land (1995)                   Drama\n",
      "870        887                   Talk of Angels (1998)                   Drama\n",
      "878        895                    Venice/Venice (1992)                   Drama\n",
      "1102      1125  Return of the Pink Panther, The (1975)            Comedy|Crime\n",
      "1158      1181                     Shooter, The (1997)                 Western\n",
      "10026    32943                    Life Is Sweet (1990)            Comedy|Drama\n",
      "10330    34540                Pretty Persuasion (2005)            Comedy|Drama\n",
      "11316    47937                        Severance (2006)  Comedy|Horror|Thriller\n",
      "11735    51678                    Julius Caesar (1953)                   Drama\n"
     ]
    }
   ],
   "source": [
    "user_id = 432\n",
    "num_recommendations = 10\n",
    "top_n_movies = get_top_n_recommendations(\n",
    "    user_id, model, movies, ratings, num_recommendations)\n",
    "print(top_n_movies)"
   ]
  }
 ],
 "metadata": {
  "kernelspec": {
   "display_name": "Python 3",
   "language": "python",
   "name": "python3"
  },
  "language_info": {
   "codemirror_mode": {
    "name": "ipython",
    "version": 3
   },
   "file_extension": ".py",
   "mimetype": "text/x-python",
   "name": "python",
   "nbconvert_exporter": "python",
   "pygments_lexer": "ipython3",
   "version": "3.10.11"
  },
  "orig_nbformat": 4
 },
 "nbformat": 4,
 "nbformat_minor": 2
}
